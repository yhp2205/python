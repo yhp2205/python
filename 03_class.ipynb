{
  "nbformat": 4,
  "nbformat_minor": 0,
  "metadata": {
    "colab": {
      "provenance": [],
      "authorship_tag": "ABX9TyOMEhD7k6pj1b34RrIu529L",
      "include_colab_link": true
    },
    "kernelspec": {
      "name": "python3",
      "display_name": "Python 3"
    },
    "language_info": {
      "name": "python"
    }
  },
  "cells": [
    {
      "cell_type": "markdown",
      "metadata": {
        "id": "view-in-github",
        "colab_type": "text"
      },
      "source": [
        "<a href=\"https://colab.research.google.com/github/yhp2205/python/blob/main/03_class.ipynb\" target=\"_parent\"><img src=\"https://colab.research.google.com/assets/colab-badge.svg\" alt=\"Open In Colab\"/></a>"
      ]
    },
    {
      "cell_type": "code",
      "execution_count": 11,
      "metadata": {
        "colab": {
          "base_uri": "https://localhost:8080/"
        },
        "id": "ROvrQtWUSDHZ",
        "outputId": "a19200ed-18a8-4b5c-b1d0-87d348060a4b"
      },
      "outputs": [
        {
          "output_type": "stream",
          "name": "stdout",
          "text": [
            "3\n",
            "7\n"
          ]
        }
      ],
      "source": [
        "# 클래스는 생산성이 있고 재사용성이 높음\n",
        "# 전역변수와 로컬변수\n",
        "\n",
        "# calculator\n",
        "result = 0  # 전역변수로 선언\n",
        "            # local 변수로 선언하면 함수를 빠져나오면 초기화되기 때문에 누적값을 얻을 수 없음\n",
        "\n",
        "def add(num):\n",
        "    global result   # 전역변수를 함수 내에서도 사용하려면 global을 붙여야 함\n",
        "    result += num  # 결괏값(result)에 입력값(num) 더하기 // num : 로컬변수(함수 내에서만 유효)\n",
        "    return result  # 결괏값 리턴\n",
        "\n",
        "print(add(3))\n",
        "print(add(4))"
      ]
    },
    {
      "cell_type": "markdown",
      "source": [
        "변수가 저장되는 공간이 있는데 global과 함수 내 local로 나눌 수 있다.  \n",
        "global 변수를 local에서 쓰려면 global으로 명시해주면 정확한 변수를 끌어와서 사용할 수 있다.  \n",
        "명시하지 않으면 local 공간에 겹치는 변수명이 생성된다."
      ],
      "metadata": {
        "id": "7bJ7THigUh4x"
      }
    },
    {
      "cell_type": "code",
      "source": [
        "# calculator.py\n",
        "result = 0\n",
        "\n",
        "def add():\n",
        "    global result\n",
        "    global num\n",
        "    result += num  # 결괏값(result)에 입력값(num) 더하기\n",
        "    return result  # 결괏값 리턴\n",
        "\n",
        "def sub():\n",
        "    global result\n",
        "    global num\n",
        "    result -= num  # 결괏값(result)에 입력값(num) 빼기\n",
        "    return result  # 결괏값 리턴\n",
        "\n",
        "\n",
        "num = 3    # 전역변수로 저장\n",
        "print(add())\n",
        "num = 4\n",
        "print(add())\n",
        "num = 7"
      ],
      "metadata": {
        "colab": {
          "base_uri": "https://localhost:8080/"
        },
        "id": "3psMKIpdSejb",
        "outputId": "b60aee13-5e2f-45fb-a993-ee598fc21b97"
      },
      "execution_count": 14,
      "outputs": [
        {
          "output_type": "stream",
          "name": "stdout",
          "text": [
            "3\n",
            "7\n"
          ]
        }
      ]
    },
    {
      "cell_type": "markdown",
      "source": [
        "전역변수를 최소화하고 로컬에서 인수로 전달하는 것이 좋음"
      ],
      "metadata": {
        "id": "8qFQycQeSfH6"
      }
    },
    {
      "cell_type": "code",
      "source": [
        "# 체계적으로 코드를 만들기 위해 class를 사용\n",
        "\n",
        "# 클래스 안에는 구성요소 2가지가 들어감\n",
        "# 클래스 멤버함수\n",
        "# 클래스 멤버변수\n",
        "\n",
        "class Calculator: # 이름이 Calculator인 Class 선언\n",
        "    # class 의 생성자\n",
        "    def __init__(self):  # 결과값을 초기화하는 것을 init이라고 함(??)\n",
        "        # self.변수명 -> 클래스 안에서의 전역변수 선언\n",
        "        # self는 자신을 가리킴// class의 result 변수를 의미\n",
        "        self.result = 0\n",
        "\n",
        "    def add(self, num) : # 클래스 내 첫 번째 인수는 무조건 self // 자기 자신의 result 변수\n",
        "        self.result += num\n",
        "        return self.result\n",
        "\n",
        "    def sub(self, num) :\n",
        "        self.result -= num\n",
        "        return self.result\n",
        "\n"
      ],
      "metadata": {
        "id": "N3cr1-o-SfNZ"
      },
      "execution_count": 22,
      "outputs": []
    },
    {
      "cell_type": "code",
      "source": [
        "# 클래스의 객체 생성\n",
        "# 생성시에 __init__ 함수를 호출\n",
        "cal1 = Calculator()     # cal1이라는 객체 생성\n",
        "\n",
        "\n",
        "result1 = cal1.add(3)     # self는 클래스 안의 변수가 접근, 클래스 밖에서는 self 변수로의 접근이 안됨(무시됨) // 따라서 3은 num으로 전달\n",
        "result1 = cal1.add(4)\n",
        "result1 = cal1.sub(3)\n",
        "print(result1)"
      ],
      "metadata": {
        "colab": {
          "base_uri": "https://localhost:8080/"
        },
        "id": "o4R7cMFGSfRh",
        "outputId": "211ea60d-8386-44d0-b70d-abe8054daa9c"
      },
      "execution_count": 23,
      "outputs": [
        {
          "output_type": "stream",
          "name": "stdout",
          "text": [
            "4\n"
          ]
        }
      ]
    },
    {
      "cell_type": "code",
      "source": [
        "# 두가지 숫자를 더하고 빼는 class\n",
        "# 멤버 변수는 멤버 함수를 사용해서 값에 대한 업데이트가 가능하다\n",
        "class Calculator:\n",
        "    def __init__(self):\n",
        "        self.result = 0\n",
        "        self.op1 = 0\n",
        "        self.op2 = 0\n",
        "\n",
        "    def valueIn(self, op1, op2):\n",
        "        self.op1 = op1\n",
        "        self.op2 = op2\n",
        "\n",
        "    def print(self):\n",
        "        print(self.result)\n",
        "\n",
        "    def add(self):\n",
        "        self.result = self.op1 + self.op2\n"
      ],
      "metadata": {
        "id": "MEnP1kU0SfWI"
      },
      "execution_count": 35,
      "outputs": []
    },
    {
      "cell_type": "code",
      "source": [
        "# 클래스 객체 생성\n",
        "\n",
        "cal1 = Calculator()\n",
        "\n",
        "cal1.valueIn(3, 4)\n",
        "cal1.add()\n",
        "cal1.print()"
      ],
      "metadata": {
        "colab": {
          "base_uri": "https://localhost:8080/"
        },
        "id": "bs7QyAKKSfaZ",
        "outputId": "9a0f220f-fc9d-4c8e-b24e-e0cb3870f6d2"
      },
      "execution_count": 36,
      "outputs": [
        {
          "output_type": "stream",
          "name": "stdout",
          "text": [
            "7\n"
          ]
        }
      ]
    },
    {
      "cell_type": "code",
      "source": [],
      "metadata": {
        "id": "qLObpw-uSfef"
      },
      "execution_count": 31,
      "outputs": []
    }
  ]
}