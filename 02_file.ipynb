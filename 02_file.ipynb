{
  "nbformat": 4,
  "nbformat_minor": 0,
  "metadata": {
    "colab": {
      "provenance": [],
      "authorship_tag": "ABX9TyOGJPep7KlOE6faoXLpkCLB",
      "include_colab_link": true
    },
    "kernelspec": {
      "name": "python3",
      "display_name": "Python 3"
    },
    "language_info": {
      "name": "python"
    }
  },
  "cells": [
    {
      "cell_type": "markdown",
      "metadata": {
        "id": "view-in-github",
        "colab_type": "text"
      },
      "source": [
        "<a href=\"https://colab.research.google.com/github/yhp2205/python/blob/main/02_file.ipynb\" target=\"_parent\"><img src=\"https://colab.research.google.com/assets/colab-badge.svg\" alt=\"Open In Colab\"/></a>"
      ]
    },
    {
      "cell_type": "markdown",
      "source": [
        "## 파일을 5개를 생성\n",
        "파일명 : a.txt, b.txt, c.txt, a.jpg, b.gif"
      ],
      "metadata": {
        "id": "SzPxpl_1QL5C"
      }
    },
    {
      "cell_type": "markdown",
      "source": [
        "# 새 섹션"
      ],
      "metadata": {
        "id": "Lvbe8UIfZbuJ"
      }
    },
    {
      "cell_type": "code",
      "source": [
        "!touch a.txt b.txt c.txt a.jpg b.gif"
      ],
      "metadata": {
        "id": "mCBZQkkTQUE2"
      },
      "execution_count": 1,
      "outputs": []
    },
    {
      "cell_type": "code",
      "source": [
        "!ls"
      ],
      "metadata": {
        "colab": {
          "base_uri": "https://localhost:8080/"
        },
        "id": "FVMICQ3xQw32",
        "outputId": "609ef145-38fb-45d6-95fa-cbc59176dadf"
      },
      "execution_count": 2,
      "outputs": [
        {
          "output_type": "stream",
          "name": "stdout",
          "text": [
            "a.jpg  a.txt  b.gif  b.txt  c.txt  sample_data\n"
          ]
        }
      ]
    },
    {
      "cell_type": "code",
      "source": [
        "# 파일 리스트에서 .txt 만 골라내기\n",
        "import os\n",
        "fileList = os.listdir('.')\n",
        "fileList"
      ],
      "metadata": {
        "colab": {
          "base_uri": "https://localhost:8080/"
        },
        "id": "f6k57NhvQ8s8",
        "outputId": "5eac70c1-6ae0-46a9-c2c6-455deca403da"
      },
      "execution_count": 3,
      "outputs": [
        {
          "output_type": "execute_result",
          "data": {
            "text/plain": [
              "['.config', 'c.txt', 'b.gif', 'a.txt', 'b.txt', 'a.jpg', 'sample_data']"
            ]
          },
          "metadata": {},
          "execution_count": 3
        }
      ]
    },
    {
      "cell_type": "code",
      "source": [
        "# splitext함수를 처음 사용하는 사람은 반드시 먼저 사용법을 익히고\n",
        "# 간단히 실행까지 해보고 응용하기\n",
        "import os\n",
        "os.path.splitext(fileList[0])"
      ],
      "metadata": {
        "colab": {
          "base_uri": "https://localhost:8080/"
        },
        "id": "pSSyDYn7Qvlu",
        "outputId": "2fd8d761-e276-4312-e73c-b3dc79444125"
      },
      "execution_count": 4,
      "outputs": [
        {
          "output_type": "execute_result",
          "data": {
            "text/plain": [
              "('.config', '')"
            ]
          },
          "metadata": {},
          "execution_count": 4
        }
      ]
    },
    {
      "cell_type": "code",
      "source": [
        "# 함수로 만들기(인수값으로 확장자만 전달하면 리스트로 골라담아주는)\n",
        "\n",
        "# 리스트에서 파일명을 하나씩 가져와서 확장자가 .txt인지 확인하고\n",
        "# .txt 파일명만 출력하기, 새로운 리스트에 담기\n",
        "txtList = []\n",
        "\n",
        "for filename in fileList:\n",
        "  splitname = os.path.splitext(filename)\n",
        "  if splitname[1] == \".txt\":\n",
        "    txtList.append(filename)\n",
        "\n",
        "txtList"
      ],
      "metadata": {
        "colab": {
          "base_uri": "https://localhost:8080/"
        },
        "id": "97eGO4_gV1WC",
        "outputId": "196f5411-09a5-41c9-ee10-e55557abf4a4"
      },
      "execution_count": 5,
      "outputs": [
        {
          "output_type": "execute_result",
          "data": {
            "text/plain": [
              "['c.txt', 'a.txt', 'b.txt']"
            ]
          },
          "metadata": {},
          "execution_count": 5
        }
      ]
    },
    {
      "cell_type": "code",
      "source": [
        "def selList(fileList, extName):\n",
        "  resultList = []\n",
        "\n",
        "  for filename in fileList:\n",
        "    splitname = os.path.splitext(filename)\n",
        "\n",
        "    if splitname[1] == extName:\n",
        "      resultList.append(filename)\n",
        "\n",
        "  return resultList"
      ],
      "metadata": {
        "id": "qh40285FWrDO"
      },
      "execution_count": 6,
      "outputs": []
    },
    {
      "cell_type": "code",
      "source": [
        "selList(fileList, '.jpg')"
      ],
      "metadata": {
        "colab": {
          "base_uri": "https://localhost:8080/"
        },
        "id": "F2fEn7lPYmS7",
        "outputId": "72775a85-db23-4e61-9859-e6592f448618"
      },
      "execution_count": 7,
      "outputs": [
        {
          "output_type": "execute_result",
          "data": {
            "text/plain": [
              "['a.jpg']"
            ]
          },
          "metadata": {},
          "execution_count": 7
        }
      ]
    },
    {
      "cell_type": "code",
      "source": [
        "# 파일의 내용을 한 줄씩 읽어온다.\n",
        "\n",
        "filename = '/content/a.txt'\n",
        "f = open(filename)\n",
        "line = f.readline()\n",
        "print(line)\n",
        "f.close()"
      ],
      "metadata": {
        "colab": {
          "base_uri": "https://localhost:8080/"
        },
        "id": "47vNw-bbY1_7",
        "outputId": "2c4680a3-45e1-4b5a-dbcf-e565a6653ba5"
      },
      "execution_count": 8,
      "outputs": [
        {
          "output_type": "stream",
          "name": "stdout",
          "text": [
            "\n"
          ]
        }
      ]
    },
    {
      "cell_type": "code",
      "source": [
        "# while문을 사용해서 파일의 모든 라인을 읽어온다.\n",
        "filename = '/content/a.txt'\n",
        "f = open(filename, 'r')\n",
        "\n",
        "while True :\n",
        "  line = f.readline()\n",
        "\n",
        "  if not line :\n",
        "    break\n",
        "  print(line)\n",
        "f.close()"
      ],
      "metadata": {
        "id": "AgV70ww5aml5"
      },
      "execution_count": 9,
      "outputs": []
    },
    {
      "cell_type": "code",
      "source": [
        "filename = '/content/a.txt'\n",
        "f = open(filename, 'r')\n",
        "\n",
        "lines = f.readlines()\n",
        "for line in lines:\n",
        "  print(line)\n",
        "f.close()"
      ],
      "metadata": {
        "id": "8R_gWKg3bxd9"
      },
      "execution_count": 10,
      "outputs": []
    },
    {
      "cell_type": "code",
      "source": [
        "filename = '/content/myFile.txt'\n",
        "\n",
        "f = open(filename, 'w')\n",
        "\n",
        "for i in range(1, 11):\n",
        "  data = \"%d번째 줄입니다.\\n\"% i\n",
        "  f.write(data)\n",
        "f.close()"
      ],
      "metadata": {
        "id": "P8yr6pQQcYpa"
      },
      "execution_count": 11,
      "outputs": []
    },
    {
      "cell_type": "code",
      "source": [
        "# 파일을 연다\n",
        "filename = '/content/test.txt'\n",
        "f = open(filename, 'w')\n",
        "\n",
        "# 파일에 데이터를 쓴다\n",
        "writeData = 'hello world'\n",
        "f.write(writeData)\n",
        "writeData = \"현재시간은 11:43\"\n",
        "f.write(writeData)\n",
        "\n",
        "# 파일을 닫는다\n",
        "f.close()"
      ],
      "metadata": {
        "id": "aWgVqtWrd3ML"
      },
      "execution_count": 12,
      "outputs": []
    },
    {
      "cell_type": "code",
      "source": [
        "\n",
        "from datetime import datetime\n",
        "\n",
        "# 현재시간 읽어오기\n",
        "now = datetime.now()\n",
        "\n",
        "print(\"현재 : \", now)\n",
        "print(\"현재 날짜 : \", now.date())\n",
        "print(\"현재 시간 : \", now.time())\n",
        "print(\"timestamp : \", now.timestamp())\n",
        "print(\"년 : \", now.year)\n",
        "print(\"월 : \", now.month)\n",
        "print(\"일 : \", now.day)\n",
        "print(\"시 : \", now.hour)\n",
        "print(\"분 : \", now.minute)\n",
        "print(\"초 : \", now.second)\n",
        "print(\"마이크로초 : \", now.microsecond)\n",
        "print(\"요일 : \", now.weekday())\n",
        "print(\"문자열 변환 : \", now.strftime('%Y-%m-%d %H:%M:%S'))\n",
        "\n",
        "# [23/10/10 13:45:10]\n",
        "print(\"문자열 변환 : \", now.strftime('[%y/%m/%d %H:%M:%S]'))"
      ],
      "metadata": {
        "colab": {
          "base_uri": "https://localhost:8080/"
        },
        "id": "FsZjb3uVeMNx",
        "outputId": "c14077fa-f017-4106-b6d1-4499b97f9964"
      },
      "execution_count": 13,
      "outputs": [
        {
          "output_type": "stream",
          "name": "stdout",
          "text": [
            "현재 :  2023-10-10 08:42:42.096593\n",
            "현재 날짜 :  2023-10-10\n",
            "현재 시간 :  08:42:42.096593\n",
            "timestamp :  1696927362.096593\n",
            "년 :  2023\n",
            "월 :  10\n",
            "일 :  10\n",
            "시 :  8\n",
            "분 :  42\n",
            "초 :  42\n",
            "마이크로초 :  96593\n",
            "요일 :  1\n",
            "문자열 변환 :  2023-10-10 08:42:42\n",
            "문자열 변환 :  [23/10/10 08:42:42]\n"
          ]
        }
      ]
    },
    {
      "cell_type": "code",
      "source": [
        "from datetime import datetime\n",
        "import time\n",
        "\n",
        "\n",
        "# 현재시간 컴퓨터에서 읽어오기 - 수업 통해 전달\n",
        "# 1초마다 현재시간을 파일에 적고 확장자가 'time.log'인 파일을 생성\n",
        "\n",
        "# 파일을 연다\n",
        "filename = '/content/time.log'\n",
        "f = open(filename, 'w')\n",
        "\n",
        "# 파일에 데이터를 쓴다\n",
        "while True:\n",
        "  now = datetime.now()\n",
        "  data = now.strftime('[%y/%m/%d %H:%M:%S]\\n')\n",
        "  time.sleep(1)\n",
        "  f.write(data)\n",
        "\n",
        "\n",
        "# 파일을 닫는다\n",
        "f.close()"
      ],
      "metadata": {
        "colab": {
          "base_uri": "https://localhost:8080/",
          "height": 258
        },
        "id": "7U5G0SC34awh",
        "outputId": "a2e8ccea-bde8-4bda-e7d9-7861e48be132"
      },
      "execution_count": 17,
      "outputs": [
        {
          "output_type": "error",
          "ename": "KeyboardInterrupt",
          "evalue": "ignored",
          "traceback": [
            "\u001b[0;31m---------------------------------------------------------------------------\u001b[0m",
            "\u001b[0;31mKeyboardInterrupt\u001b[0m                         Traceback (most recent call last)",
            "\u001b[0;32m<ipython-input-17-42ffbc26eed2>\u001b[0m in \u001b[0;36m<cell line: 13>\u001b[0;34m()\u001b[0m\n\u001b[1;32m     14\u001b[0m   \u001b[0mnow\u001b[0m \u001b[0;34m=\u001b[0m \u001b[0mdatetime\u001b[0m\u001b[0;34m.\u001b[0m\u001b[0mnow\u001b[0m\u001b[0;34m(\u001b[0m\u001b[0;34m)\u001b[0m\u001b[0;34m\u001b[0m\u001b[0;34m\u001b[0m\u001b[0m\n\u001b[1;32m     15\u001b[0m   \u001b[0mdata\u001b[0m \u001b[0;34m=\u001b[0m \u001b[0mnow\u001b[0m\u001b[0;34m.\u001b[0m\u001b[0mstrftime\u001b[0m\u001b[0;34m(\u001b[0m\u001b[0;34m'[%y/%m/%d %H:%M:%S]\\n'\u001b[0m\u001b[0;34m)\u001b[0m\u001b[0;34m\u001b[0m\u001b[0;34m\u001b[0m\u001b[0m\n\u001b[0;32m---> 16\u001b[0;31m   \u001b[0mtime\u001b[0m\u001b[0;34m.\u001b[0m\u001b[0msleep\u001b[0m\u001b[0;34m(\u001b[0m\u001b[0;36m1\u001b[0m\u001b[0;34m)\u001b[0m\u001b[0;34m\u001b[0m\u001b[0;34m\u001b[0m\u001b[0m\n\u001b[0m\u001b[1;32m     17\u001b[0m   \u001b[0mf\u001b[0m\u001b[0;34m.\u001b[0m\u001b[0mwrite\u001b[0m\u001b[0;34m(\u001b[0m\u001b[0mdata\u001b[0m\u001b[0;34m)\u001b[0m\u001b[0;34m\u001b[0m\u001b[0;34m\u001b[0m\u001b[0m\n\u001b[1;32m     18\u001b[0m \u001b[0;34m\u001b[0m\u001b[0m\n",
            "\u001b[0;31mKeyboardInterrupt\u001b[0m: "
          ]
        }
      ]
    },
    {
      "cell_type": "code",
      "source": [
        "import os\n",
        "oldName = '/content/a.txt'\n",
        "newName = '/content/aa.txt'\n",
        "os.rename(oldName, newName)"
      ],
      "metadata": {
        "id": "HTUXMVsE74G4",
        "colab": {
          "base_uri": "https://localhost:8080/",
          "height": 221
        },
        "outputId": "f6b23f14-63bf-4465-9122-421d4b56fa8e"
      },
      "execution_count": 18,
      "outputs": [
        {
          "output_type": "error",
          "ename": "FileNotFoundError",
          "evalue": "ignored",
          "traceback": [
            "\u001b[0;31m---------------------------------------------------------------------------\u001b[0m",
            "\u001b[0;31mFileNotFoundError\u001b[0m                         Traceback (most recent call last)",
            "\u001b[0;32m<ipython-input-18-0ebe9e04771f>\u001b[0m in \u001b[0;36m<cell line: 4>\u001b[0;34m()\u001b[0m\n\u001b[1;32m      2\u001b[0m \u001b[0moldName\u001b[0m \u001b[0;34m=\u001b[0m \u001b[0;34m'/content/a.txt'\u001b[0m\u001b[0;34m\u001b[0m\u001b[0;34m\u001b[0m\u001b[0m\n\u001b[1;32m      3\u001b[0m \u001b[0mnewName\u001b[0m \u001b[0;34m=\u001b[0m \u001b[0;34m'/content/aa.txt'\u001b[0m\u001b[0;34m\u001b[0m\u001b[0;34m\u001b[0m\u001b[0m\n\u001b[0;32m----> 4\u001b[0;31m \u001b[0mos\u001b[0m\u001b[0;34m.\u001b[0m\u001b[0mrename\u001b[0m\u001b[0;34m(\u001b[0m\u001b[0moldName\u001b[0m\u001b[0;34m,\u001b[0m \u001b[0mnewName\u001b[0m\u001b[0;34m)\u001b[0m\u001b[0;34m\u001b[0m\u001b[0;34m\u001b[0m\u001b[0m\n\u001b[0m",
            "\u001b[0;31mFileNotFoundError\u001b[0m: [Errno 2] No such file or directory: '/content/a.txt' -> '/content/aa.txt'"
          ]
        }
      ]
    },
    {
      "cell_type": "code",
      "source": [
        "from google.colab import drive\n",
        "drive.mount('/content/drive')"
      ],
      "metadata": {
        "id": "q4qY9_VIK6sg"
      },
      "execution_count": null,
      "outputs": []
    },
    {
      "cell_type": "code",
      "source": [
        "import os\n",
        "catImagePath = '/content/drive/MyDrive/2023 구글클라우드인공지능과정/코드/파이썬/data/cats'\n",
        "filenames = os.listdir(catImagePath)\n",
        "len(filenames)"
      ],
      "metadata": {
        "colab": {
          "base_uri": "https://localhost:8080/"
        },
        "id": "erMxJgxkK9wA",
        "outputId": "1aa3e5d9-9d76-47a2-af77-c01272c92d40"
      },
      "execution_count": 19,
      "outputs": [
        {
          "output_type": "execute_result",
          "data": {
            "text/plain": [
              "38"
            ]
          },
          "metadata": {},
          "execution_count": 19
        }
      ]
    },
    {
      "cell_type": "code",
      "source": [
        "\n",
        "for i, filename in enumerate(filenames) :\n",
        "  # 기존 파일명\n",
        "  oldName = os.path.join(catImagePath,filename)\n",
        "  # 새로운 파일명: 'cat' + '숫자' + '.jpg'\n",
        "  newName = \"cat\"+str(i+1)+'.jpg'\n",
        "  newName = os.path.join(catImagePath, newName)\n",
        "  #print(newName)\n",
        "  os.rename(oldName, newName)"
      ],
      "metadata": {
        "id": "7BGnnzZ5Lf-g"
      },
      "execution_count": 20,
      "outputs": []
    },
    {
      "cell_type": "code",
      "source": [
        "from tqdm import tqdm\n",
        "import time\n",
        "\n",
        "a = ['1', '2', '3', '4']\n",
        "\n",
        "for i in tqdm(a):\n",
        "  time.sleep(5)\n",
        "  print(i)"
      ],
      "metadata": {
        "colab": {
          "base_uri": "https://localhost:8080/"
        },
        "id": "meQohm36MT9Z",
        "outputId": "cc01db19-8389-4cbd-e53b-3373b2de258b"
      },
      "execution_count": 21,
      "outputs": [
        {
          "output_type": "stream",
          "name": "stderr",
          "text": [
            " 25%|██▌       | 1/4 [00:05<00:15,  5.01s/it]"
          ]
        },
        {
          "output_type": "stream",
          "name": "stdout",
          "text": [
            "1\n"
          ]
        },
        {
          "output_type": "stream",
          "name": "stderr",
          "text": [
            "\r 50%|█████     | 2/4 [00:10<00:10,  5.01s/it]"
          ]
        },
        {
          "output_type": "stream",
          "name": "stdout",
          "text": [
            "2\n"
          ]
        },
        {
          "output_type": "stream",
          "name": "stderr",
          "text": [
            "\r 75%|███████▌  | 3/4 [00:15<00:05,  5.01s/it]"
          ]
        },
        {
          "output_type": "stream",
          "name": "stdout",
          "text": [
            "3\n"
          ]
        },
        {
          "output_type": "stream",
          "name": "stderr",
          "text": [
            "100%|██████████| 4/4 [00:20<00:00,  5.01s/it]"
          ]
        },
        {
          "output_type": "stream",
          "name": "stdout",
          "text": [
            "4\n"
          ]
        },
        {
          "output_type": "stream",
          "name": "stderr",
          "text": [
            "\n"
          ]
        }
      ]
    },
    {
      "cell_type": "code",
      "source": [],
      "metadata": {
        "id": "DoDHeg5MPhj_"
      },
      "execution_count": 21,
      "outputs": []
    }
  ]
}