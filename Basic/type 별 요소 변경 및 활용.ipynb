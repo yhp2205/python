{
 "cells": [
  {
   "cell_type": "markdown",
   "id": "06c74e4d",
   "metadata": {},
   "source": [
    "### type별 indexing, slicing 여부 확인하기"
   ]
  },
  {
   "cell_type": "code",
   "execution_count": 1,
   "id": "51dca15b",
   "metadata": {},
   "outputs": [
    {
     "name": "stdout",
     "output_type": "stream",
     "text": [
      "[1, 2, 3] <class 'list'>\n"
     ]
    }
   ],
   "source": [
    "a = [1, 2, 3]\n",
    "print(a, type(a))"
   ]
  },
  {
   "cell_type": "code",
   "execution_count": 2,
   "id": "062ebe44",
   "metadata": {},
   "outputs": [
    {
     "name": "stdout",
     "output_type": "stream",
     "text": [
      "(1, 2, 3) <class 'tuple'>\n"
     ]
    }
   ],
   "source": [
    "a = (1, 2, 3)\n",
    "print(a, type(a))"
   ]
  },
  {
   "cell_type": "code",
   "execution_count": 3,
   "id": "f7b0ade8",
   "metadata": {},
   "outputs": [
    {
     "name": "stdout",
     "output_type": "stream",
     "text": [
      "Hello World <class 'str'>\n"
     ]
    }
   ],
   "source": [
    "a = 'Hello World'\n",
    "print(a, type(a))"
   ]
  },
  {
   "cell_type": "code",
   "execution_count": 4,
   "id": "6fa0fffa",
   "metadata": {},
   "outputs": [
    {
     "name": "stdout",
     "output_type": "stream",
     "text": [
      "2\n",
      "[2, 3, 4, 5]\n"
     ]
    }
   ],
   "source": [
    "#indexing\n",
    "#sequencing\n",
    "a = [1, 2, 3, 4, 5, 6, 7, 7]\n",
    "print(a[1]) # indexing\n",
    "print(a[1:5]) # slicing"
   ]
  },
  {
   "cell_type": "code",
   "execution_count": 6,
   "id": "e033c587",
   "metadata": {},
   "outputs": [
    {
     "name": "stdout",
     "output_type": "stream",
     "text": [
      "e\n",
      "ello wo\n"
     ]
    }
   ],
   "source": [
    "a = 'Hello world'\n",
    "print(a[1])  #string indexing\n",
    "print(a[1:8]) #string slicing"
   ]
  },
  {
   "cell_type": "code",
   "execution_count": 7,
   "id": "ca97b17a",
   "metadata": {},
   "outputs": [
    {
     "name": "stdout",
     "output_type": "stream",
     "text": [
      "1\n",
      "[1 2 3 4 5 6]\n"
     ]
    }
   ],
   "source": [
    "#numpy array\n",
    "\n",
    "import numpy as np\n",
    "a = np.arange(10)\n",
    "print(a[1])\n",
    "print(a[1:7])"
   ]
  },
  {
   "cell_type": "markdown",
   "id": "d86be769",
   "metadata": {},
   "source": [
    "indexing과 slicing 같은 경우 요소가 배열이 일렬로 되어있다면 가능하다"
   ]
  },
  {
   "cell_type": "code",
   "execution_count": 8,
   "id": "0ac1ca27",
   "metadata": {},
   "outputs": [
    {
     "name": "stdout",
     "output_type": "stream",
     "text": [
      "['zero', 2, 3, 4, 5, 6, 7, 7]\n"
     ]
    }
   ],
   "source": [
    "# list의 경우 factor 교체 가능\n",
    "a = [1, 2, 3, 4, 5, 6, 7, 7]\n",
    "a[0] = 'zero'\n",
    "print(a) #mutable"
   ]
  },
  {
   "cell_type": "code",
   "execution_count": 9,
   "id": "c57b1bbf",
   "metadata": {},
   "outputs": [
    {
     "ename": "TypeError",
     "evalue": "'tuple' object does not support item assignment",
     "output_type": "error",
     "traceback": [
      "\u001b[0;31m---------------------------------------------------------------------------\u001b[0m",
      "\u001b[0;31mTypeError\u001b[0m                                 Traceback (most recent call last)",
      "\u001b[0;32m/var/folders/md/msg024pj25v401wtfs9zsb8h0000gn/T/ipykernel_50760/3950446477.py\u001b[0m in \u001b[0;36m<module>\u001b[0;34m\u001b[0m\n\u001b[1;32m      1\u001b[0m \u001b[0;31m# tuple의 경우\u001b[0m\u001b[0;34m\u001b[0m\u001b[0;34m\u001b[0m\u001b[0m\n\u001b[1;32m      2\u001b[0m \u001b[0ma\u001b[0m \u001b[0;34m=\u001b[0m \u001b[0;34m(\u001b[0m\u001b[0;36m1\u001b[0m\u001b[0;34m,\u001b[0m \u001b[0;36m2\u001b[0m\u001b[0;34m,\u001b[0m \u001b[0;36m3\u001b[0m\u001b[0;34m,\u001b[0m \u001b[0;36m4\u001b[0m\u001b[0;34m,\u001b[0m \u001b[0;36m5\u001b[0m\u001b[0;34m,\u001b[0m \u001b[0;36m6\u001b[0m\u001b[0;34m,\u001b[0m \u001b[0;36m7\u001b[0m\u001b[0;34m,\u001b[0m \u001b[0;36m7\u001b[0m\u001b[0;34m)\u001b[0m\u001b[0;34m\u001b[0m\u001b[0;34m\u001b[0m\u001b[0m\n\u001b[0;32m----> 3\u001b[0;31m \u001b[0ma\u001b[0m\u001b[0;34m[\u001b[0m\u001b[0;36m0\u001b[0m\u001b[0;34m]\u001b[0m \u001b[0;34m=\u001b[0m \u001b[0;34m'zero'\u001b[0m\u001b[0;34m\u001b[0m\u001b[0;34m\u001b[0m\u001b[0m\n\u001b[0m\u001b[1;32m      4\u001b[0m \u001b[0mprint\u001b[0m\u001b[0;34m(\u001b[0m\u001b[0ma\u001b[0m\u001b[0;34m)\u001b[0m\u001b[0;34m\u001b[0m\u001b[0;34m\u001b[0m\u001b[0m\n",
      "\u001b[0;31mTypeError\u001b[0m: 'tuple' object does not support item assignment"
     ]
    }
   ],
   "source": [
    "# tuple의 경우\n",
    "a = (1, 2, 3, 4, 5, 6, 7, 7)\n",
    "a[0] = 'zero'\n",
    "print(a) #immutable"
   ]
  },
  {
   "cell_type": "code",
   "execution_count": 10,
   "id": "c81703ba",
   "metadata": {},
   "outputs": [
    {
     "ename": "TypeError",
     "evalue": "'str' object does not support item assignment",
     "output_type": "error",
     "traceback": [
      "\u001b[0;31m---------------------------------------------------------------------------\u001b[0m",
      "\u001b[0;31mTypeError\u001b[0m                                 Traceback (most recent call last)",
      "\u001b[0;32m/var/folders/md/msg024pj25v401wtfs9zsb8h0000gn/T/ipykernel_50760/1336426150.py\u001b[0m in \u001b[0;36m<module>\u001b[0;34m\u001b[0m\n\u001b[1;32m      1\u001b[0m \u001b[0;31m# string의 경우\u001b[0m\u001b[0;34m\u001b[0m\u001b[0;34m\u001b[0m\u001b[0m\n\u001b[1;32m      2\u001b[0m \u001b[0ma\u001b[0m \u001b[0;34m=\u001b[0m \u001b[0;34m'Hello World'\u001b[0m\u001b[0;34m\u001b[0m\u001b[0;34m\u001b[0m\u001b[0m\n\u001b[0;32m----> 3\u001b[0;31m \u001b[0ma\u001b[0m\u001b[0;34m[\u001b[0m\u001b[0;36m0\u001b[0m\u001b[0;34m]\u001b[0m \u001b[0;34m=\u001b[0m \u001b[0;34m'h'\u001b[0m\u001b[0;34m\u001b[0m\u001b[0;34m\u001b[0m\u001b[0m\n\u001b[0m",
      "\u001b[0;31mTypeError\u001b[0m: 'str' object does not support item assignment"
     ]
    }
   ],
   "source": [
    "# string의 경우\n",
    "a = 'Hello World'\n",
    "a[0] = 'h'  #immutable"
   ]
  },
  {
   "cell_type": "code",
   "execution_count": 11,
   "id": "235d8268",
   "metadata": {},
   "outputs": [
    {
     "name": "stdout",
     "output_type": "stream",
     "text": [
      "['__add__', '__class__', '__contains__', '__delattr__', '__dir__', '__doc__', '__eq__', '__format__', '__ge__', '__getattribute__', '__getitem__', '__getnewargs__', '__gt__', '__hash__', '__init__', '__init_subclass__', '__iter__', '__le__', '__len__', '__lt__', '__mod__', '__mul__', '__ne__', '__new__', '__reduce__', '__reduce_ex__', '__repr__', '__rmod__', '__rmul__', '__setattr__', '__sizeof__', '__str__', '__subclasshook__', 'capitalize', 'casefold', 'center', 'count', 'encode', 'endswith', 'expandtabs', 'find', 'format', 'format_map', 'index', 'isalnum', 'isalpha', 'isascii', 'isdecimal', 'isdigit', 'isidentifier', 'islower', 'isnumeric', 'isprintable', 'isspace', 'istitle', 'isupper', 'join', 'ljust', 'lower', 'lstrip', 'maketrans', 'partition', 'removeprefix', 'removesuffix', 'replace', 'rfind', 'rindex', 'rjust', 'rpartition', 'rsplit', 'rstrip', 'split', 'splitlines', 'startswith', 'strip', 'swapcase', 'title', 'translate', 'upper', 'zfill']\n"
     ]
    }
   ],
   "source": [
    "#dir 확인\n",
    "a = 'Hello World'\n",
    "print(dir(str))"
   ]
  },
  {
   "cell_type": "code",
   "execution_count": 14,
   "id": "b66e0e5b",
   "metadata": {},
   "outputs": [
    {
     "name": "stdout",
     "output_type": "stream",
     "text": [
      "HELLO WORLD\n",
      "Hello World\n"
     ]
    }
   ],
   "source": [
    "# string 내에서의 대소문자 교환\n",
    "a = 'Hello World'\n",
    "print(a.upper())\n",
    "print(a) #a 자체의 값은 변하지 않음을 알 수 있음"
   ]
  },
  {
   "cell_type": "code",
   "execution_count": 15,
   "id": "868fda14",
   "metadata": {},
   "outputs": [
    {
     "name": "stdout",
     "output_type": "stream",
     "text": [
      "hello world\n",
      "Hello World\n"
     ]
    }
   ],
   "source": [
    "# string 소문자로 바꾸기\n",
    "a = 'Hello World'\n",
    "print(a.lower())\n",
    "print(a)"
   ]
  },
  {
   "cell_type": "markdown",
   "id": "c8eb8eea",
   "metadata": {},
   "source": [
    "### string 구문 내에서 ' 사용하기  \n",
    "\n",
    "### escape character 종류"
   ]
  },
  {
   "cell_type": "code",
   "execution_count": 16,
   "id": "a1dc6241",
   "metadata": {},
   "outputs": [
    {
     "ename": "SyntaxError",
     "evalue": "invalid syntax (1087348946.py, line 2)",
     "output_type": "error",
     "traceback": [
      "\u001b[0;36m  File \u001b[0;32m\"/var/folders/md/msg024pj25v401wtfs9zsb8h0000gn/T/ipykernel_50760/1087348946.py\"\u001b[0;36m, line \u001b[0;32m2\u001b[0m\n\u001b[0;31m    a = 'Bob's Cat'\u001b[0m\n\u001b[0m             ^\u001b[0m\n\u001b[0;31mSyntaxError\u001b[0m\u001b[0;31m:\u001b[0m invalid syntax\n"
     ]
    }
   ],
   "source": [
    "# string에 '' 삽입\n",
    "a = 'Bob's Cat'\n",
    "print(a)"
   ]
  },
  {
   "cell_type": "code",
   "execution_count": 19,
   "id": "331d4283",
   "metadata": {},
   "outputs": [
    {
     "name": "stdout",
     "output_type": "stream",
     "text": [
      "Bob's Cat\n"
     ]
    }
   ],
   "source": [
    "# solution 1 : '' 대신에 \"\" 사용\n",
    "a = \"Bob's Cat\"\n",
    "print(a)"
   ]
  },
  {
   "cell_type": "code",
   "execution_count": 22,
   "id": "7b2bcaf7",
   "metadata": {},
   "outputs": [
    {
     "name": "stdout",
     "output_type": "stream",
     "text": [
      "Bob's Cat\n"
     ]
    }
   ],
   "source": [
    "# solution 2 : '' 특성을 바꿔줌\n",
    "a = 'Bob\\'s Cat'  # \\ <-- escape character (다른 의미로 사용하겠다는 뜻)\n",
    "print(a)"
   ]
  },
  {
   "cell_type": "code",
   "execution_count": 29,
   "id": "baa0a605",
   "metadata": {},
   "outputs": [
    {
     "name": "stdout",
     "output_type": "stream",
     "text": [
      "Bob\t Cat\n"
     ]
    }
   ],
   "source": [
    "#escape character\n",
    "a = 'Bob\\t Cat'\n",
    "print(a)"
   ]
  },
  {
   "cell_type": "code",
   "execution_count": 30,
   "id": "e15b1733",
   "metadata": {},
   "outputs": [
    {
     "name": "stdout",
     "output_type": "stream",
     "text": [
      "Bob\n",
      "Cat\n"
     ]
    }
   ],
   "source": [
    "a = 'Bob\\nCat'\n",
    "print(a)"
   ]
  },
  {
   "cell_type": "code",
   "execution_count": 27,
   "id": "934deb65",
   "metadata": {},
   "outputs": [
    {
     "name": "stdout",
     "output_type": "stream",
     "text": [
      "0\n",
      "1\n",
      "2\n",
      "3\n",
      "4\n",
      "5\n",
      "6\n",
      "7\n",
      "8\n",
      "9\n"
     ]
    }
   ],
   "source": [
    "for i in range(10):\n",
    "    print(i, end = '\\n')"
   ]
  },
  {
   "cell_type": "markdown",
   "id": "4dbd2986",
   "metadata": {},
   "source": [
    "### string concatanation, string formating"
   ]
  },
  {
   "cell_type": "code",
   "execution_count": 40,
   "id": "0d3fc266",
   "metadata": {},
   "outputs": [
    {
     "name": "stdout",
     "output_type": "stream",
     "text": [
      "Hello, Bob. Welcome!\n"
     ]
    }
   ],
   "source": [
    "#string concatanation\n",
    "greeting = 'Hello'\n",
    "name = 'Bob'\n",
    "\n",
    "print(greeting + ', ' + name + '. Welcome!')  #가독성이 떨어짐"
   ]
  },
  {
   "cell_type": "code",
   "execution_count": 38,
   "id": "904b5cec",
   "metadata": {},
   "outputs": [
    {
     "name": "stdout",
     "output_type": "stream",
     "text": [
      "Hello, Bob. Welcome!\n"
     ]
    }
   ],
   "source": [
    "print('%s, %s. Welcome!' % (greeting, name)) #place holder 사용"
   ]
  },
  {
   "cell_type": "code",
   "execution_count": 35,
   "id": "791d87ea",
   "metadata": {},
   "outputs": [
    {
     "name": "stdout",
     "output_type": "stream",
     "text": [
      "Hello, Bob. Welcome!\n"
     ]
    }
   ],
   "source": [
    "print('{}, {}. Welcome!'.format(greeting, name))"
   ]
  },
  {
   "cell_type": "code",
   "execution_count": 39,
   "id": "7bf16c7c",
   "metadata": {},
   "outputs": [
    {
     "name": "stdout",
     "output_type": "stream",
     "text": [
      "Hello, Bob. Welcome!\n"
     ]
    }
   ],
   "source": [
    "print(f'{greeting}, {name}. Welcome!')  #f string"
   ]
  },
  {
   "cell_type": "code",
   "execution_count": 43,
   "id": "9764cd7c",
   "metadata": {},
   "outputs": [],
   "source": [
    "# int format\n",
    "import numpy as np\n",
    "x = 7682361298359719"
   ]
  },
  {
   "cell_type": "code",
   "execution_count": 45,
   "id": "a832d9a4",
   "metadata": {},
   "outputs": [
    {
     "name": "stdout",
     "output_type": "stream",
     "text": [
      "Result : 87649080.42         \n"
     ]
    }
   ],
   "source": [
    "print(f'Result : {np.sqrt(x):<20.2f}')"
   ]
  },
  {
   "cell_type": "code",
   "execution_count": 46,
   "id": "0e5a45d9",
   "metadata": {},
   "outputs": [],
   "source": [
    "#string이 한 줄을 넘길만큼 길때\n",
    "a = \"\"\"adlkjfo\n",
    "awelsjd\n",
    "fikelkfdlfsd\"\"\" #함수를 정의할 때 주로 사용함"
   ]
  },
  {
   "cell_type": "code",
   "execution_count": 47,
   "id": "acd1b0da",
   "metadata": {},
   "outputs": [],
   "source": [
    "import numpy as np\n",
    "a = np.linspace(1, 10, 100)"
   ]
  },
  {
   "cell_type": "code",
   "execution_count": 48,
   "id": "af99537f",
   "metadata": {},
   "outputs": [],
   "source": [
    "def f():\n",
    "    \"\"\"\n",
    "    Hello, Bob.\n",
    "    \"\"\"\n",
    "    return 2"
   ]
  },
  {
   "cell_type": "code",
   "execution_count": 51,
   "id": "d2d22370",
   "metadata": {},
   "outputs": [
    {
     "name": "stdout",
     "output_type": "stream",
     "text": [
      "2\n"
     ]
    }
   ],
   "source": [
    "print(f()) # \"\"\" 내에 함수의 활용을 설명하는 부분이 들어감 \"\"\""
   ]
  },
  {
   "cell_type": "code",
   "execution_count": null,
   "id": "6e28d9ec",
   "metadata": {},
   "outputs": [],
   "source": []
  }
 ],
 "metadata": {
  "kernelspec": {
   "display_name": "Python 3 (ipykernel)",
   "language": "python",
   "name": "python3"
  },
  "language_info": {
   "codemirror_mode": {
    "name": "ipython",
    "version": 3
   },
   "file_extension": ".py",
   "mimetype": "text/x-python",
   "name": "python",
   "nbconvert_exporter": "python",
   "pygments_lexer": "ipython3",
   "version": "3.9.7"
  }
 },
 "nbformat": 4,
 "nbformat_minor": 5
}
