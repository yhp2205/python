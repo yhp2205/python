{
 "cells": [
  {
   "cell_type": "markdown",
   "id": "8e9eeb8c",
   "metadata": {},
   "source": [
    "## Python indexing\n",
    "파이썬에서 list, set, dictionary를 대상으로 indexing 해보도록 하겠습니다"
   ]
  },
  {
   "cell_type": "code",
   "execution_count": 1,
   "id": "9375b094",
   "metadata": {},
   "outputs": [
    {
     "name": "stdout",
     "output_type": "stream",
     "text": [
      "1\n",
      "2\n",
      "3\n"
     ]
    }
   ],
   "source": [
    "a = [1, 2, 3]\n",
    "#index 0 1 2\n",
    "#print(a, type(a), dir(a))\n",
    "# item을 부를 때 index를 사용\n",
    "print(a[0])\n",
    "print(a[1])\n",
    "print(a[2])"
   ]
  },
  {
   "cell_type": "code",
   "execution_count": 2,
   "id": "1dd16cc2",
   "metadata": {},
   "outputs": [
    {
     "name": "stdout",
     "output_type": "stream",
     "text": [
      "7\n",
      "4\n"
     ]
    }
   ],
   "source": [
    "#negative indexing\n",
    "a = [1, 2, 3, 4, 4, 7]\n",
    "#   -6 -5 -4 -3 -2 -1\n",
    "print(a[-1])\n",
    "print(a[-2])"
   ]
  },
  {
   "cell_type": "code",
   "execution_count": 3,
   "id": "57c22abc",
   "metadata": {},
   "outputs": [
    {
     "name": "stdout",
     "output_type": "stream",
     "text": [
      "7\n",
      "4\n"
     ]
    }
   ],
   "source": [
    "#indexing은 tuple에서도 동일하게 작용\n",
    "a = (1, 2, 3, 4, 4, 7)\n",
    "print(a[-1])\n",
    "print(a[-2])"
   ]
  },
  {
   "cell_type": "markdown",
   "id": "a1ea67c3",
   "metadata": {},
   "source": [
    "### C언어에서는 indexing이 0에서부터 세는데, python 또한 0부터 시작\n",
    "다른 언어에서는 1부터 시작하는 것도 있음"
   ]
  },
  {
   "cell_type": "markdown",
   "id": "2da35fd0",
   "metadata": {},
   "source": [
    "#### python slicing"
   ]
  },
  {
   "cell_type": "code",
   "execution_count": 4,
   "id": "b06182b2",
   "metadata": {},
   "outputs": [
    {
     "name": "stdout",
     "output_type": "stream",
     "text": [
      "[1, 2, 3]\n",
      "[2, 3, 4]\n",
      "[2, 3, 4, 4, 7]\n",
      "[1, 2, 3, 4, 4, 7]\n"
     ]
    }
   ],
   "source": [
    "# slicing\n",
    "a = [1, 2, 3, 4, 4, 7]\n",
    "#    0  1  2  3  4  5\n",
    "print(a[0:3]) #start : end (end exclusive, 끝은 포함 안됨)\n",
    "print(a[1:4])\n",
    "print(a[1:]) #index 1인 요소부터 끝까지\n",
    "print(a[:]) #전체"
   ]
  },
  {
   "cell_type": "markdown",
   "id": "d34a9af9",
   "metadata": {},
   "source": [
    "### step size 지정\n",
    "default value는 1"
   ]
  },
  {
   "cell_type": "code",
   "execution_count": 5,
   "id": "8a9902a0",
   "metadata": {},
   "outputs": [
    {
     "name": "stdout",
     "output_type": "stream",
     "text": [
      "[8, 0]\n",
      "[1, 2, 3]\n",
      "[1, 3]\n",
      "[2, 4, 7, 0, 1]\n",
      "[1, 3, 4, 8, 5]\n",
      "[5, 0, 8, 7, 4, 4]\n"
     ]
    }
   ],
   "source": [
    "a = [1, 2, 3, 4, 4, 7, 8, 0, 5, 1]\n",
    "#    0  1  2  3  4  5  6  7  8  9\n",
    "#    0  1  2  3  4  5 -4 -3 - 2- 1\n",
    "print(a[-4:-2]) # negative indexing\n",
    "\n",
    "print(a[0:3:1]) # start : end : step size (default 1)\n",
    "print(a[0:3:2])\n",
    "print(a[1::2])\n",
    "print(a[::2])\n",
    "print(a[8:2:-1])"
   ]
  },
  {
   "cell_type": "code",
   "execution_count": 6,
   "id": "a8c59dee",
   "metadata": {},
   "outputs": [
    {
     "name": "stdout",
     "output_type": "stream",
     "text": [
      "[1, 'two', 3]\n"
     ]
    }
   ],
   "source": [
    "#list 내의 요소 변경하기\n",
    "a = [1, 2, 3]  #mutable\n",
    "a[1] = 'two'\n",
    "print(a)"
   ]
  },
  {
   "cell_type": "code",
   "execution_count": 7,
   "id": "06cd7814",
   "metadata": {},
   "outputs": [
    {
     "ename": "TypeError",
     "evalue": "'tuple' object does not support item assignment",
     "output_type": "error",
     "traceback": [
      "\u001b[0;31m---------------------------------------------------------------------------\u001b[0m",
      "\u001b[0;31mTypeError\u001b[0m                                 Traceback (most recent call last)",
      "\u001b[0;32m/var/folders/md/msg024pj25v401wtfs9zsb8h0000gn/T/ipykernel_36985/3704724240.py\u001b[0m in \u001b[0;36m<module>\u001b[0;34m\u001b[0m\n\u001b[1;32m      1\u001b[0m \u001b[0;31m#tuple 요소 변경하기\u001b[0m\u001b[0;34m\u001b[0m\u001b[0;34m\u001b[0m\u001b[0m\n\u001b[1;32m      2\u001b[0m \u001b[0ma\u001b[0m \u001b[0;34m=\u001b[0m \u001b[0;34m(\u001b[0m\u001b[0;36m1\u001b[0m\u001b[0;34m,\u001b[0m \u001b[0;36m2\u001b[0m\u001b[0;34m,\u001b[0m \u001b[0;36m3\u001b[0m\u001b[0;34m)\u001b[0m  \u001b[0;31m#immutable\u001b[0m\u001b[0;34m\u001b[0m\u001b[0;34m\u001b[0m\u001b[0m\n\u001b[0;32m----> 3\u001b[0;31m \u001b[0ma\u001b[0m\u001b[0;34m[\u001b[0m\u001b[0;36m1\u001b[0m\u001b[0;34m]\u001b[0m \u001b[0;34m=\u001b[0m \u001b[0;34m'two'\u001b[0m\u001b[0;34m\u001b[0m\u001b[0;34m\u001b[0m\u001b[0m\n\u001b[0m\u001b[1;32m      4\u001b[0m \u001b[0mprint\u001b[0m\u001b[0;34m(\u001b[0m\u001b[0ma\u001b[0m\u001b[0;34m)\u001b[0m \u001b[0;31m#error 출력\u001b[0m\u001b[0;34m\u001b[0m\u001b[0;34m\u001b[0m\u001b[0m\n",
      "\u001b[0;31mTypeError\u001b[0m: 'tuple' object does not support item assignment"
     ]
    }
   ],
   "source": [
    "#tuple 요소 변경하기\n",
    "a = (1, 2, 3)  #immutable\n",
    "a[1] = 'two'\n",
    "print(a) #error 출력"
   ]
  },
  {
   "cell_type": "markdown",
   "id": "8eb7ac5f",
   "metadata": {},
   "source": [
    "list는 요소 변경이 가능하고 tuple은 불가한데,  \n",
    "list가 tuple에 비해 메모리를 많이 차지한다는 단점이 있기 때문에  \n",
    "요소를 변경할 필요가 없는 경우에 tuple을 사용할 수 있습니다. "
   ]
  },
  {
   "cell_type": "markdown",
   "id": "11d2e2e7",
   "metadata": {},
   "source": [
    "요소를 추가할 때에는 append() 함수를 사용하여 리스트의 마지막에 요소를 추가할 수 있습니다  \n",
    "반대로 요소를 제거하고 싶을 때에는 pop() 안에 인덱스를 지정하여 특정 요소를 제거할 수 있습니다"
   ]
  },
  {
   "cell_type": "code",
   "execution_count": 8,
   "id": "e853d2a7",
   "metadata": {},
   "outputs": [
    {
     "name": "stdout",
     "output_type": "stream",
     "text": [
      "[1, 2, 3, 'four']\n",
      "[1, 2, 3]\n",
      "[1, 2]\n",
      "[2]\n"
     ]
    }
   ],
   "source": [
    "# 요소 추가\n",
    "a = [1, 2, 3]\n",
    "a.append('four')\n",
    "print(a)\n",
    "\n",
    "#마지막 요소 제거\n",
    "a.pop()\n",
    "print(a)\n",
    "a.pop()  #중복해서 사용 가능\n",
    "print(a)\n",
    "\n",
    "#pop에 index를 지정할 수 있음(default =-1)\n",
    "a.pop(0)\n",
    "print(a)"
   ]
  },
  {
   "cell_type": "code",
   "execution_count": 9,
   "id": "0607a07c",
   "metadata": {},
   "outputs": [
    {
     "name": "stdout",
     "output_type": "stream",
     "text": [
      "1\n",
      "2\n",
      "3\n"
     ]
    }
   ],
   "source": [
    "#dictionary type\n",
    "a = {'one' : 1, 'two' : 2, 'three' : 3}\n",
    "#     key  : value\n",
    "print(a['one'])\n",
    "print(a['two'])\n",
    "print(a['three'])"
   ]
  },
  {
   "cell_type": "markdown",
   "id": "ee6f696a",
   "metadata": {},
   "source": [
    "list에서는 default index를 가져오고, dictionary에서는 지정된 index를 가져옵니다"
   ]
  },
  {
   "cell_type": "code",
   "execution_count": 10,
   "id": "362461dc",
   "metadata": {},
   "outputs": [
    {
     "name": "stdout",
     "output_type": "stream",
     "text": [
      "5\n"
     ]
    }
   ],
   "source": [
    "a = ['banana', 'apple', 'banana', 'banana', 'apple']\n",
    "print(len(a))"
   ]
  },
  {
   "cell_type": "code",
   "execution_count": 11,
   "id": "7ccd762b",
   "metadata": {},
   "outputs": [
    {
     "name": "stdout",
     "output_type": "stream",
     "text": [
      "{'banana', 'apple'}\n",
      "2\n"
     ]
    }
   ],
   "source": [
    "#팔린 과일의 종류 출력하기\n",
    "b = set(a)\n",
    "print(b)\n",
    "print(len(b))"
   ]
  },
  {
   "cell_type": "code",
   "execution_count": 12,
   "id": "4f70aa34",
   "metadata": {},
   "outputs": [
    {
     "name": "stdout",
     "output_type": "stream",
     "text": [
      "{'banana': 1, 'apple': 0}\n",
      "{'banana': 1, 'apple': 1}\n",
      "{'banana': 2, 'apple': 1}\n",
      "{'banana': 3, 'apple': 1}\n",
      "{'banana': 3, 'apple': 2}\n"
     ]
    }
   ],
   "source": [
    "#{'banana' : 3, 'apple' : 2}\n",
    "#이런 형태로 dic을 만들고 싶을 때\n",
    "d = {'banana' : 0, 'apple' : 0} \n",
    "for item in a:\n",
    "    d[item] = d[item] + 1\n",
    "    print(d)"
   ]
  },
  {
   "cell_type": "code",
   "execution_count": 13,
   "id": "8a8c91f9",
   "metadata": {},
   "outputs": [
    {
     "name": "stdout",
     "output_type": "stream",
     "text": [
      "{'banana': 1, 'apple': 0}\n",
      "{'banana': 1, 'apple': 1}\n",
      "{'banana': 2, 'apple': 1}\n",
      "{'banana': 3, 'apple': 1}\n",
      "{'banana': 3, 'apple': 2}\n"
     ]
    }
   ],
   "source": [
    "#set 이용해서 인덱스 만들기\n",
    "d = {} #empty dic\n",
    "\n",
    "for item in b: #b = set(a)\n",
    "    d[item] = 0\n",
    "    #print(d)\n",
    "    \n",
    "for item in a:\n",
    "    d[item] = d[item] + 1\n",
    "    print(d) #마지막 결과만 출력하고 싶다면 for 문 밖에 print를 적어주면 됩니다\n",
    "#print(d)"
   ]
  },
  {
   "cell_type": "code",
   "execution_count": 14,
   "id": "27bcdae3",
   "metadata": {},
   "outputs": [
    {
     "name": "stdout",
     "output_type": "stream",
     "text": [
      "{'banana': 1}\n",
      "{'banana': 1, 'apple': 1}\n",
      "{'banana': 2, 'apple': 1}\n",
      "{'banana': 3, 'apple': 1}\n",
      "{'banana': 3, 'apple': 2}\n"
     ]
    }
   ],
   "source": [
    "#set 이용하지 않고 이니셜라이징 하기\n",
    "d = {}\n",
    "for item in a:\n",
    "    d[item] = d.get(item, 0) + 1 #item이 없을 때 0으로 세팅하라는 명령\n",
    "    print(d)"
   ]
  },
  {
   "cell_type": "code",
   "execution_count": null,
   "id": "38b19ea3",
   "metadata": {},
   "outputs": [],
   "source": []
  }
 ],
 "metadata": {
  "kernelspec": {
   "display_name": "Python 3 (ipykernel)",
   "language": "python",
   "name": "python3"
  },
  "language_info": {
   "codemirror_mode": {
    "name": "ipython",
    "version": 3
   },
   "file_extension": ".py",
   "mimetype": "text/x-python",
   "name": "python",
   "nbconvert_exporter": "python",
   "pygments_lexer": "ipython3",
   "version": "3.9.7"
  }
 },
 "nbformat": 4,
 "nbformat_minor": 5
}
