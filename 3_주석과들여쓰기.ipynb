{
  "nbformat": 4,
  "nbformat_minor": 0,
  "metadata": {
    "colab": {
      "provenance": [],
      "include_colab_link": true
    },
    "kernelspec": {
      "name": "python3",
      "display_name": "Python 3"
    }
  },
  "cells": [
    {
      "cell_type": "markdown",
      "metadata": {
        "id": "view-in-github",
        "colab_type": "text"
      },
      "source": [
        "<a href=\"https://colab.research.google.com/github/yhp2205/python/blob/main/3_%EC%A3%BC%EC%84%9D%EA%B3%BC%EB%93%A4%EC%97%AC%EC%93%B0%EA%B8%B0.ipynb\" target=\"_parent\"><img src=\"https://colab.research.google.com/assets/colab-badge.svg\" alt=\"Open In Colab\"/></a>"
      ]
    },
    {
      "cell_type": "markdown",
      "metadata": {
        "id": "4_PsJAIhA8rM"
      },
      "source": [
        "#1. 주석"
      ]
    },
    {
      "cell_type": "markdown",
      "metadata": {
        "id": "05GwQrZsPkRu"
      },
      "source": [
        "# 1-1 서브"
      ]
    },
    {
      "cell_type": "markdown",
      "metadata": {
        "id": "CZsnlpYlBJ8z"
      },
      "source": [
        "# '#' 뒤에 한칸 띄어 코멘트를 넣어줍니다.\n",
        "\n",
        "\n",
        "\n",
        "\n"
      ]
    },
    {
      "cell_type": "code",
      "metadata": {
        "id": "ovRN-UGdBG29",
        "colab": {
          "base_uri": "https://localhost:8080/"
        },
        "outputId": "35b929bc-b5db-4673-9518-6f5e4e358c1c"
      },
      "source": [
        "# 코멘트를 달아줍니다.\n",
        "a = 3\n",
        "b = 4\n",
        "\n",
        "# a + b 연산을 수행 합니다\n",
        "print(a + b)"
      ],
      "execution_count": 1,
      "outputs": [
        {
          "output_type": "stream",
          "name": "stdout",
          "text": [
            "7\n"
          ]
        }
      ]
    },
    {
      "cell_type": "markdown",
      "metadata": {
        "id": "y77PEp5xBU-R"
      },
      "source": [
        "## 2. indent"
      ]
    },
    {
      "cell_type": "markdown",
      "metadata": {
        "id": "ImrpMfwMBYy1"
      },
      "source": [
        "indent(들여쓰기)는 파이썬에서 굉장히 중요합니다.\n",
        "\n",
        "단순히, 코드를 깔끔히 정리하기 위해서 들여쓰기를 하는 것은 아닙니다."
      ]
    },
    {
      "cell_type": "markdown",
      "metadata": {
        "id": "T4eoKQIuBw9q"
      },
      "source": [
        "* 본인이 맞게 코드를 짰다고 한다면, indent는 colab에서 자동으로 해줄 것입니다.\n",
        "* [tab]키를 한 번 누르면 indent가 1번 한 효과입니다."
      ]
    },
    {
      "cell_type": "markdown",
      "metadata": {
        "id": "W2Xy1do1B2nh"
      },
      "source": [
        "**indent 옵션**을 space * 4 개로 바꿔봅시다"
      ]
    },
    {
      "cell_type": "markdown",
      "metadata": {
        "id": "SP_jwt-YB-2O"
      },
      "source": [
        "**[우측상단 톱니바퀴] - 편집기 - 들여쓰기 - 4 로 바꿔봅시다**"
      ]
    },
    {
      "cell_type": "markdown",
      "metadata": {
        "id": "SQznenyqBirw"
      },
      "source": [
        "### 2-1. 콜론(:) 다음에 반드시 들여쓰기를 부여합니다."
      ]
    },
    {
      "cell_type": "code",
      "source": [
        "a = 10\n",
        "if a ==10:\n",
        "  print('Hi')"
      ],
      "metadata": {
        "colab": {
          "base_uri": "https://localhost:8080/"
        },
        "id": "vI2JmrRI9QBx",
        "outputId": "7d40699c-41fe-4990-ad63-f44f0822a81a"
      },
      "execution_count": 2,
      "outputs": [
        {
          "output_type": "stream",
          "name": "stdout",
          "text": [
            "Hi\n"
          ]
        }
      ]
    },
    {
      "cell_type": "code",
      "source": [
        "def adder(a, b):\n",
        "  result = a + b\n",
        "\n",
        "  return result\n",
        "\n",
        "myResult = adder(3, 4)\n",
        "print(myResult)"
      ],
      "metadata": {
        "colab": {
          "base_uri": "https://localhost:8080/"
        },
        "id": "hrRBxB_E-y-t",
        "outputId": "bf019e84-edc3-481b-88a1-f0e863796a7d"
      },
      "execution_count": 3,
      "outputs": [
        {
          "output_type": "stream",
          "name": "stdout",
          "text": [
            "7\n"
          ]
        }
      ]
    },
    {
      "cell_type": "code",
      "source": [
        "# adder, suber, muler, diver\n",
        "def suber(a, b, c = 0):\n",
        "  return (a-b-c)\n",
        "\n",
        "def muler(a, b):\n",
        "  return (a * b)\n",
        "\n",
        "def diver(a, b):\n",
        "  return (a/b)"
      ],
      "metadata": {
        "id": "GqyL_6RK_biG"
      },
      "execution_count": 4,
      "outputs": []
    },
    {
      "cell_type": "code",
      "metadata": {
        "id": "WRojM7iFBsbN"
      },
      "source": [
        "# 함수의 본문은 들여쓰기를 한번 적용합니다.\n",
        "def my_func():\n",
        "    print('indent가 자동으로 되나요?')"
      ],
      "execution_count": 5,
      "outputs": []
    },
    {
      "cell_type": "markdown",
      "metadata": {
        "id": "s1PPG6ciCUHG"
      },
      "source": [
        "### 2-2. 들여쓰기가 잘못될 경우 에러가 발생합니다"
      ]
    },
    {
      "cell_type": "code",
      "metadata": {
        "id": "u8kcH6UBCQwC",
        "colab": {
          "base_uri": "https://localhost:8080/",
          "height": 147
        },
        "outputId": "27fc9922-b337-4bc8-ee42-1c7dc72aeb77"
      },
      "source": [
        "a = 3\n",
        "    b = 4"
      ],
      "execution_count": 6,
      "outputs": [
        {
          "output_type": "error",
          "ename": "IndentationError",
          "evalue": "ignored",
          "traceback": [
            "\u001b[0;36m  File \u001b[0;32m\"<ipython-input-6-a09cf6cf6487>\"\u001b[0;36m, line \u001b[0;32m2\u001b[0m\n\u001b[0;31m    b = 4\u001b[0m\n\u001b[0m    ^\u001b[0m\n\u001b[0;31mIndentationError\u001b[0m\u001b[0;31m:\u001b[0m unexpected indent\n"
          ]
        }
      ]
    },
    {
      "cell_type": "code",
      "metadata": {
        "id": "rqZ98iOgCkcl",
        "colab": {
          "base_uri": "https://localhost:8080/",
          "height": 147
        },
        "outputId": "e7862a32-6105-49cb-803a-bd55476ad73d"
      },
      "source": [
        "a = 3\n",
        "  b = 4"
      ],
      "execution_count": 7,
      "outputs": [
        {
          "output_type": "error",
          "ename": "IndentationError",
          "evalue": "ignored",
          "traceback": [
            "\u001b[0;36m  File \u001b[0;32m\"<ipython-input-7-f729ffbad5e1>\"\u001b[0;36m, line \u001b[0;32m2\u001b[0m\n\u001b[0;31m    b = 4\u001b[0m\n\u001b[0m    ^\u001b[0m\n\u001b[0;31mIndentationError\u001b[0m\u001b[0;31m:\u001b[0m unexpected indent\n"
          ]
        }
      ]
    },
    {
      "cell_type": "markdown",
      "metadata": {
        "id": "8zTsAmYWqBNY"
      },
      "source": [
        "## 3. 함수란 무엇일까요?"
      ]
    },
    {
      "cell_type": "markdown",
      "metadata": {
        "id": "tbJqSUrbqEOh"
      },
      "source": [
        "\n",
        "반복적으로 사용되는 부분을 묶어서,  \n",
        "코드를 **재사용 가능**하도록 만들어 주는 코드 집합\n",
        "함수에는 **input**이 있고,  \n",
        "**output(return)**이 있습니다.  \n",
        "정해진 로직(규칙)에 따라, input -> output으로 효율적으로 바꿔주는 역할을 합니다"
      ]
    },
    {
      "cell_type": "code",
      "metadata": {
        "id": "DDJoGqm8qBz3"
      },
      "source": [
        "a = 1\n",
        "b = 2\n",
        "c = 3"
      ],
      "execution_count": 8,
      "outputs": []
    },
    {
      "cell_type": "code",
      "metadata": {
        "id": "5IE8wMKrqSbD",
        "colab": {
          "base_uri": "https://localhost:8080/"
        },
        "outputId": "0220e90b-baa0-4d85-f8a8-2f03783ba86f"
      },
      "source": [
        "(a + b) * c"
      ],
      "execution_count": 9,
      "outputs": [
        {
          "output_type": "execute_result",
          "data": {
            "text/plain": [
              "9"
            ]
          },
          "metadata": {},
          "execution_count": 9
        }
      ]
    },
    {
      "cell_type": "code",
      "source": [
        "## 리턴값이 2개인 함수\n",
        "def myCalc(a,b):\n",
        "    return (a+b), (a-b)\n",
        "\n",
        "op1 = 5\n",
        "op2 = 3"
      ],
      "metadata": {
        "id": "stYTaGn9V6Zb"
      },
      "execution_count": 10,
      "outputs": []
    },
    {
      "cell_type": "code",
      "source": [
        "# tuple로 리턴값 받기\n",
        "result = myCalc(op1, op2)\n",
        "print(result)\n",
        "print(type(result))"
      ],
      "metadata": {
        "colab": {
          "base_uri": "https://localhost:8080/"
        },
        "id": "PBS9brXhWeqP",
        "outputId": "82ee4406-448b-4a63-9482-7416e662b277"
      },
      "execution_count": 11,
      "outputs": [
        {
          "output_type": "stream",
          "name": "stdout",
          "text": [
            "(8, 2)\n",
            "<class 'tuple'>\n"
          ]
        }
      ]
    },
    {
      "cell_type": "code",
      "source": [
        "# tuple로 받지 않고 각각의 변수로 받기\n",
        "resultAdd, resultSub = myCalc(op1, op2)\n",
        "print(type(resultAdd), type(resultSub))"
      ],
      "metadata": {
        "colab": {
          "base_uri": "https://localhost:8080/"
        },
        "id": "A3xVFpE9WiUc",
        "outputId": "0dedabf5-ca51-4521-86e4-146b8854e87b"
      },
      "execution_count": 12,
      "outputs": [
        {
          "output_type": "stream",
          "name": "stdout",
          "text": [
            "<class 'int'> <class 'int'>\n"
          ]
        }
      ]
    },
    {
      "cell_type": "code",
      "source": [
        "def calc(a, b):\n",
        "  result1 = a+b\n",
        "  result2 = a-b\n",
        "  return result1, result2\n",
        "\n",
        "addResult, subResult = calc(3, 4)\n",
        "print(addResult, subResult)"
      ],
      "metadata": {
        "colab": {
          "base_uri": "https://localhost:8080/"
        },
        "id": "l1ykCvs9C-le",
        "outputId": "9f86dbbb-34cb-49a9-ef79-ee2cc0d05591"
      },
      "execution_count": 13,
      "outputs": [
        {
          "output_type": "stream",
          "name": "stdout",
          "text": [
            "7 -1\n"
          ]
        }
      ]
    },
    {
      "cell_type": "code",
      "source": [
        "# tuple로 받지 않고 각각의 변수로 받는데 2번째 return값은 '_'는 버리기\n",
        "resultAdd, _ = myCalc(op1, op2)\n",
        "print(resultAdd)"
      ],
      "metadata": {
        "colab": {
          "base_uri": "https://localhost:8080/"
        },
        "id": "vH5rjFUcW1xP",
        "outputId": "bcffcaaf-a47f-46f9-ef63-1d50424d138e"
      },
      "execution_count": 14,
      "outputs": [
        {
          "output_type": "stream",
          "name": "stdout",
          "text": [
            "8\n"
          ]
        }
      ]
    },
    {
      "cell_type": "code",
      "metadata": {
        "id": "f9kitt9VqUAh"
      },
      "source": [
        "def calc(a, b, c):\n",
        "    return (a + b) * c"
      ],
      "execution_count": 15,
      "outputs": []
    },
    {
      "cell_type": "code",
      "source": [
        "def valueInput():\n",
        "    op1 = input()\n",
        "    print(\"op1:\",op1)\n",
        "    op2 = input()\n",
        "    print(\"op2:\",op2)\n",
        "    return float(op1), float(op2)\n",
        "\n",
        "\n",
        "## 리턴값이 4개인 함수\n",
        "def myCalcAll(a,b):\n",
        "    return (a+b), (a-b), (a*b), (a/b)\n",
        "\n",
        "def resultDisplay(result):\n",
        "    print(\"{}+{}={}\".format(op1,op2,result[0]))\n",
        "    print(\"{}-{}={}\".format(op1,op2,result[1]))\n",
        "    print(\"{}*{}={}\".format(op1,op2,result[2]))\n",
        "    print(\"{}/{}={}\".format(op1,op2,result[3]))"
      ],
      "metadata": {
        "id": "2skhpmOJa_7L"
      },
      "execution_count": 16,
      "outputs": []
    },
    {
      "cell_type": "code",
      "source": [
        "# 4칙연산을 하는 함수를 만드시오. +,-,*,/\n",
        "# 입력값은 키보드로 입력받으시오. 입력값의 갯수는 2개\n",
        "# myCalc함수를 만드시오. 리턴값은 4개를 돌려주어야 합니다.\n",
        "\n",
        "# 1. 키보드로 부터 값을 입력받기\n",
        "op1, op2 = valueInput()\n",
        "\n",
        "# 2. 사칙연산하기\n",
        "result = myCalcAll(op1, op2)\n",
        "\n",
        "# 3. 결과값 출력하기\n",
        "resultDisplay(result)"
      ],
      "metadata": {
        "colab": {
          "base_uri": "https://localhost:8080/"
        },
        "id": "HL3acP5EXhDX",
        "outputId": "32e2fa6b-819e-43b4-ccbd-630f848fa489"
      },
      "execution_count": 17,
      "outputs": [
        {
          "output_type": "stream",
          "name": "stdout",
          "text": [
            "6\n",
            "op1: 6\n",
            "9\n",
            "op2: 9\n",
            "6.0+9.0=15.0\n",
            "6.0-9.0=-3.0\n",
            "6.0*9.0=54.0\n",
            "6.0/9.0=0.6666666666666666\n"
          ]
        }
      ]
    },
    {
      "cell_type": "code",
      "source": [
        "# 명시적 형변환\n",
        "a = 3.14\n",
        "int_a = int(a)\n",
        "int_a"
      ],
      "metadata": {
        "colab": {
          "base_uri": "https://localhost:8080/"
        },
        "id": "tsqjvkTdH51w",
        "outputId": "412c0d5b-f2d7-427d-adf4-e981e82bbb87"
      },
      "execution_count": 18,
      "outputs": [
        {
          "output_type": "execute_result",
          "data": {
            "text/plain": [
              "3"
            ]
          },
          "metadata": {},
          "execution_count": 18
        }
      ]
    },
    {
      "cell_type": "code",
      "source": [
        "result_list = list(result)\n",
        "result_list"
      ],
      "metadata": {
        "colab": {
          "base_uri": "https://localhost:8080/"
        },
        "id": "XbbDtlXDIFEC",
        "outputId": "d51bdd0a-51f5-41fb-fd6d-3df1e23681f5"
      },
      "execution_count": 19,
      "outputs": [
        {
          "output_type": "execute_result",
          "data": {
            "text/plain": [
              "[15.0, -3.0, 54.0, 0.6666666666666666]"
            ]
          },
          "metadata": {},
          "execution_count": 19
        }
      ]
    },
    {
      "cell_type": "code",
      "metadata": {
        "id": "voEbemT3qVW3",
        "colab": {
          "base_uri": "https://localhost:8080/"
        },
        "outputId": "d7a80af3-a5ba-4787-f0dd-f20dc0ca54b6"
      },
      "source": [
        "calc(1, 2, 3)"
      ],
      "execution_count": 20,
      "outputs": [
        {
          "output_type": "execute_result",
          "data": {
            "text/plain": [
              "9"
            ]
          },
          "metadata": {},
          "execution_count": 20
        }
      ]
    },
    {
      "cell_type": "code",
      "metadata": {
        "id": "3Suzc7_DqWs9",
        "colab": {
          "base_uri": "https://localhost:8080/"
        },
        "outputId": "1397d568-1e67-4f56-b407-1d43c8aa61b8"
      },
      "source": [
        "calc(2, 2, 3)"
      ],
      "execution_count": 21,
      "outputs": [
        {
          "output_type": "execute_result",
          "data": {
            "text/plain": [
              "12"
            ]
          },
          "metadata": {},
          "execution_count": 21
        }
      ]
    },
    {
      "cell_type": "code",
      "metadata": {
        "id": "u-LmNhpLqX5L",
        "colab": {
          "base_uri": "https://localhost:8080/"
        },
        "outputId": "2391d9c0-746c-476c-ea25-8fe499f7e38d"
      },
      "source": [
        "calc(3, 2, 3)"
      ],
      "execution_count": 22,
      "outputs": [
        {
          "output_type": "execute_result",
          "data": {
            "text/plain": [
              "15"
            ]
          },
          "metadata": {},
          "execution_count": 22
        }
      ]
    },
    {
      "cell_type": "markdown",
      "metadata": {
        "id": "QfRVukagqg1b"
      },
      "source": [
        "## 4.def **함수이름** (parameter1, parameter2, parameter...)**:**"
      ]
    },
    {
      "cell_type": "code",
      "metadata": {
        "id": "f5P0KvhuqkOa"
      },
      "source": [
        "def my_func(var1):\n",
        "    print(var1)"
      ],
      "execution_count": 23,
      "outputs": []
    },
    {
      "cell_type": "code",
      "metadata": {
        "id": "3cEOFcgfqpmG",
        "colab": {
          "base_uri": "https://localhost:8080/"
        },
        "outputId": "06c9f0c7-2342-4187-f4c2-35c174602146"
      },
      "source": [
        "my_func(\"What's up?\")"
      ],
      "execution_count": 24,
      "outputs": [
        {
          "output_type": "stream",
          "name": "stdout",
          "text": [
            "What's up?\n"
          ]
        }
      ]
    },
    {
      "cell_type": "code",
      "source": [
        "my_func(123)"
      ],
      "metadata": {
        "colab": {
          "base_uri": "https://localhost:8080/"
        },
        "id": "W1NPMfHrI6c8",
        "outputId": "089ff4f2-e8b7-42b1-f641-28e26f143ff8"
      },
      "execution_count": 25,
      "outputs": [
        {
          "output_type": "stream",
          "name": "stdout",
          "text": [
            "123\n"
          ]
        }
      ]
    },
    {
      "cell_type": "markdown",
      "metadata": {
        "id": "BdxBemdFqsZE"
      },
      "source": [
        "## 5. 함수는 값을 리턴할 수 있고, 리턴이 없어도 됩니다."
      ]
    },
    {
      "cell_type": "code",
      "metadata": {
        "id": "CFPGwEeeqwRg"
      },
      "source": [
        "# 리턴이 없는 경우\n",
        "def my_func(a, b):\n",
        "    print(a, b)"
      ],
      "execution_count": 26,
      "outputs": []
    },
    {
      "cell_type": "code",
      "metadata": {
        "id": "sp6vzcGmqzVx",
        "colab": {
          "base_uri": "https://localhost:8080/"
        },
        "outputId": "10c8b25d-2a87-4b38-e1db-8e6723280e64"
      },
      "source": [
        "my_func(1, 10)"
      ],
      "execution_count": 27,
      "outputs": [
        {
          "output_type": "stream",
          "name": "stdout",
          "text": [
            "1 10\n"
          ]
        }
      ]
    },
    {
      "cell_type": "code",
      "metadata": {
        "id": "3Q5NsRPPq1EX"
      },
      "source": [
        "# 리턴이 있는 경우\n",
        "def my_func(a, b):\n",
        "    s = a + b\n",
        "    return s"
      ],
      "execution_count": 28,
      "outputs": []
    },
    {
      "cell_type": "code",
      "metadata": {
        "id": "cZNZitlwq34q",
        "colab": {
          "base_uri": "https://localhost:8080/"
        },
        "outputId": "31aa1f5b-2201-4c78-d423-4e96d882859d"
      },
      "source": [
        "result = my_func(1, 10)\n",
        "print(result)"
      ],
      "execution_count": 29,
      "outputs": [
        {
          "output_type": "stream",
          "name": "stdout",
          "text": [
            "11\n"
          ]
        }
      ]
    },
    {
      "cell_type": "markdown",
      "metadata": {
        "id": "COEwJyGdrK0e"
      },
      "source": [
        "## 6. parameter는 여러 개가 가능하고, 함수에 넘겨 줄 때 순서가 있습니다."
      ]
    },
    {
      "cell_type": "code",
      "metadata": {
        "id": "noLjGn55q7ff"
      },
      "source": [
        "def my_func(a, b, c):\n",
        "    return (a + b) * c"
      ],
      "execution_count": 30,
      "outputs": []
    },
    {
      "cell_type": "code",
      "metadata": {
        "id": "XgseBW72rN4B"
      },
      "source": [
        "a = 10\n",
        "b = 20\n",
        "c = 3"
      ],
      "execution_count": 31,
      "outputs": []
    },
    {
      "cell_type": "code",
      "metadata": {
        "id": "1xJAqqlFrPMo",
        "colab": {
          "base_uri": "https://localhost:8080/"
        },
        "outputId": "c47b56fa-680c-4ee2-ac3c-33a6cee4362d"
      },
      "source": [
        "(a + b) * c"
      ],
      "execution_count": 32,
      "outputs": [
        {
          "output_type": "execute_result",
          "data": {
            "text/plain": [
              "90"
            ]
          },
          "metadata": {},
          "execution_count": 32
        }
      ]
    },
    {
      "cell_type": "code",
      "metadata": {
        "id": "zrcHiY9KrQXP",
        "colab": {
          "base_uri": "https://localhost:8080/"
        },
        "outputId": "c5febc85-35bf-41c2-a739-e8a98da85a96"
      },
      "source": [
        "my_func(c, b, a)"
      ],
      "execution_count": 33,
      "outputs": [
        {
          "output_type": "execute_result",
          "data": {
            "text/plain": [
              "230"
            ]
          },
          "metadata": {},
          "execution_count": 33
        }
      ]
    },
    {
      "cell_type": "code",
      "metadata": {
        "id": "zbING47mrR4g",
        "colab": {
          "base_uri": "https://localhost:8080/"
        },
        "outputId": "0b0589f8-738d-4401-e5bc-37176b12c91a"
      },
      "source": [
        "my_func(a, b, c)"
      ],
      "execution_count": 34,
      "outputs": [
        {
          "output_type": "execute_result",
          "data": {
            "text/plain": [
              "90"
            ]
          },
          "metadata": {},
          "execution_count": 34
        }
      ]
    },
    {
      "cell_type": "markdown",
      "source": [
        "### 1. 1~100000까지 더하는 함수를 만드시오.\n",
        "### 2. 키보드로 두 값을 입력을 받습니다. 시작값,끝값을 입력을 받아서 그 사이의 숫자를 더하는 함수를 만드시오."
      ],
      "metadata": {
        "id": "fwNQ0D11hqdY"
      }
    },
    {
      "cell_type": "code",
      "metadata": {
        "id": "4PgPfRkcraao",
        "colab": {
          "base_uri": "https://localhost:8080/"
        },
        "outputId": "42839b8b-7939-444b-ffa6-bbf1f7557bb1"
      },
      "source": [
        "# 1. 1~100000까지 더하는 함수를 만드시오.\n",
        "\n",
        "sValue = 1\n",
        "eValue = 100000\n",
        "\n",
        "sum = 0\n",
        "for i in range(sValue,eValue+1):\n",
        "    sum += i\n",
        "\n",
        "print(sum)"
      ],
      "execution_count": 35,
      "outputs": [
        {
          "output_type": "stream",
          "name": "stdout",
          "text": [
            "5000050000\n"
          ]
        }
      ]
    },
    {
      "cell_type": "code",
      "source": [
        "def rangeInput():\n",
        "    start = input()\n",
        "    print(\"start:\",start)\n",
        "    stop = input()\n",
        "    print(\"stop:\",stop)\n",
        "    return int(start), int(stop)\n",
        "\n",
        "\n",
        "## 리턴값이 4개인 함수\n",
        "def sumAll(start,stop):\n",
        "    sum = 0\n",
        "    for i in range(start,stop+1):\n",
        "        sum += i\n",
        "\n",
        "    return sum\n",
        "\n",
        "def resultDisplay(start,stop,result):\n",
        "    print(\"start : {}\".format(start))\n",
        "    print(\"stop  : {}\".format(stop))\n",
        "    print(\"result: {}\".format(result))\n"
      ],
      "metadata": {
        "id": "-f7qMOSDjmVi"
      },
      "execution_count": 36,
      "outputs": []
    },
    {
      "cell_type": "code",
      "source": [
        "# 1. 키보드로 입력값을 받는 함수\n",
        "start, stop = rangeInput()\n",
        "\n",
        "# 2. 시작값부터 종료값까지 다 더하는 함수\n",
        "result = sumAll(start, stop)\n",
        "\n",
        "# 3. 결과값을 출력하는 함수\n",
        "resultDisplay(start,stop,result)"
      ],
      "metadata": {
        "colab": {
          "base_uri": "https://localhost:8080/"
        },
        "id": "3AoEzvWsibo1",
        "outputId": "8fc71f12-723b-42ca-9c74-e51899e1fec0"
      },
      "execution_count": 37,
      "outputs": [
        {
          "output_type": "stream",
          "name": "stdout",
          "text": [
            "7\n",
            "start: 7\n",
            "99\n",
            "stop: 99\n",
            "start : 7\n",
            "stop  : 99\n",
            "result: 4929\n"
          ]
        }
      ]
    },
    {
      "cell_type": "code",
      "source": [
        "DEBUG = False\n",
        "\n",
        "# 프로그램을 3개의 파트로 분리\n",
        "# 1. 키보드로 부터 입력\n",
        "def Keyinput():\n",
        "  op1 = int(input(\"시작값을 입력하시오 : \"))\n",
        "  op2 = int(input(\"종료값을 입력하시오 : \"))\n",
        "\n",
        "  if DEBUG == True:\n",
        "    print(type(op1), type(op2))\n",
        "\n",
        "  return op1, op2\n",
        "\n",
        "\n",
        "# 2. 시작값부터 종료값까지 다 더하기 함수\n",
        "def sumAll(sValue, eValue):\n",
        "  sum = 0\n",
        "  for i in range(sValue, eValue+1):\n",
        "    sum = sum + i\n",
        "    if DEBUG == True:\n",
        "      print(sum)\n",
        "\n",
        "  return sum\n",
        "\n",
        "def resultDisp(sValue, eValue, sum):\n",
        "  print(\"start Value : {}\".format(sValue))\n",
        "  print(\"end   Value : {}\".format(eValue))\n",
        "  print(\"sum   Value : {}\".format(sum))"
      ],
      "metadata": {
        "id": "CsFv63f_mIDQ"
      },
      "execution_count": 38,
      "outputs": []
    },
    {
      "cell_type": "code",
      "source": [
        "sValue, eValue = Keyinput()\n",
        "sum = sumAll(sValue, eValue)\n",
        "resultDisp(sValue, eValue, sum)"
      ],
      "metadata": {
        "colab": {
          "base_uri": "https://localhost:8080/"
        },
        "id": "H8PoJ80QLyQR",
        "outputId": "1be50c0e-09e2-4ef4-d7e9-ba158499aa44"
      },
      "execution_count": 39,
      "outputs": [
        {
          "output_type": "stream",
          "name": "stdout",
          "text": [
            "시작값을 입력하시오 : 7\n",
            "종료값을 입력하시오 : 400\n",
            "start Value : 7\n",
            "end   Value : 400\n",
            "sum   Value : 80179\n"
          ]
        }
      ]
    },
    {
      "cell_type": "code",
      "source": [],
      "metadata": {
        "id": "N5MYHvdpMfEC"
      },
      "execution_count": null,
      "outputs": []
    }
  ]
}